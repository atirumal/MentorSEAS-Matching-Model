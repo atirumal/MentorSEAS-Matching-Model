{
  "cells": [
    {
      "cell_type": "markdown",
      "metadata": {
        "id": "n8Mddqa8RG77"
      },
      "source": [
        "Mentorseas Matching Notebook!"
      ]
    },
    {
      "cell_type": "markdown",
      "metadata": {
        "id": "jDiJkRn0ROHx"
      },
      "source": [
        "I hope that this notebook will be a good guide to make the matching process a lot less daunting! To start, do these imports and then upload a csv of the mentee responses from the google form and a csv of the master list of students that OASA sent."
      ]
    },
    {
      "cell_type": "code",
      "execution_count": null,
      "metadata": {
        "id": "LbtsxHyLgz07"
      },
      "outputs": [],
      "source": [
        "import io\n",
        "import pandas as pd"
      ]
    },
    {
      "cell_type": "code",
      "execution_count": null,
      "metadata": {
        "colab": {
          "base_uri": "https://localhost:8080/",
          "height": 109
        },
        "id": "V1_JdMJng5VE",
        "outputId": "a480a379-fa7f-4028-bda2-bf6c7bc3b600"
      },
      "outputs": [],
      "source": [
        "from google.colab import files\n",
        "uploaded = files.upload()\n",
        "#click browse under this once you've ran it to upload the 2 csvs"
      ]
    },
    {
      "cell_type": "markdown",
      "metadata": {
        "id": "G607pBNOR1g4"
      },
      "source": [
        "Let's call the oasa list \"oasa_df\" and the mentees form responses \"form_df\". All you gotta do is input the name that was uploaded in the cell above to import these."
      ]
    },
    {
      "cell_type": "code",
      "execution_count": null,
      "metadata": {
        "id": "A5GbHmJIjQI_"
      },
      "outputs": [],
      "source": [
        "oasa_df = pd.read_csv(io.BytesIO(uploaded['CleanOASA List.csv']))\n",
        "form_df = pd.read_csv(io.BytesIO(uploaded['9_10_22_Cleaned_MenteeResponses 1.csv']))"
      ]
    },
    {
      "cell_type": "code",
      "execution_count": null,
      "metadata": {
        "id": "CARYAklKjnee"
      },
      "outputs": [],
      "source": [
        "# remove any trailing or leading spaces\n",
        "form_df['Full Legal Name (First and Last)'] = form_df['Full Legal Name (First and Last)'].str.strip()\n",
        "form_df['Preferred Email Address'] = form_df['Preferred Email Address'].str.strip()\n",
        "oasa_df['Admit Status'] = oasa_df['Admit Status'].str.strip()"
      ]
    },
    {
      "cell_type": "code",
      "execution_count": null,
      "metadata": {
        "colab": {
          "base_uri": "https://localhost:8080/",
          "height": 520
        },
        "id": "ni06W3oDjz9Y",
        "outputId": "72e66bec-3268-480e-852b-3d7e2fbf76a8"
      },
      "outputs": [],
      "source": [
        "#just to check it out\n",
        "oasa_df.head(15)"
      ]
    },
    {
      "cell_type": "code",
      "execution_count": null,
      "metadata": {
        "id": "tZyxIAP6jvXp"
      },
      "outputs": [],
      "source": [
        "# now we'll split into a freshman oasa list and a transfer one\n",
        "freshman_oasa_df = oasa_df[oasa_df['Admit Status'] == 'Freshman']\n",
        "transfer_oasa_df = oasa_df[oasa_df['Admit Status'] == 'Transfer']"
      ]
    },
    {
      "cell_type": "code",
      "execution_count": null,
      "metadata": {
        "colab": {
          "base_uri": "https://localhost:8080/",
          "height": 1000
        },
        "id": "dWuuLCe-j-2Q",
        "outputId": "8fa2ee7b-7a21-4062-cdee-dc941277d756"
      },
      "outputs": [],
      "source": [
        "form_df"
      ]
    },
    {
      "cell_type": "code",
      "execution_count": null,
      "metadata": {
        "id": "6ZnxOIzokNL8"
      },
      "outputs": [],
      "source": [
        "# we'll also split the mentee form dataframe into a freshman and a transfer one\n",
        "freshman_form_df = form_df[form_df['Are you entering UCLA as a transfer student?'] == 'No']\n",
        "transfer_form_df = form_df[form_df['Are you entering UCLA as a transfer student?'] == 'Yes']"
      ]
    },
    {
      "cell_type": "code",
      "execution_count": null,
      "metadata": {
        "colab": {
          "base_uri": "https://localhost:8080/"
        },
        "id": "0edGnkRukPvu",
        "outputId": "63479e12-6419-49f2-acfc-93fc3ac624fb"
      },
      "outputs": [],
      "source": [
        "freshman_form_df.shape"
      ]
    },
    {
      "cell_type": "code",
      "execution_count": null,
      "metadata": {
        "colab": {
          "base_uri": "https://localhost:8080/"
        },
        "id": "Y6k2LaU3ka_B",
        "outputId": "00dbca16-7e93-4e3e-b6a8-c317a769a955"
      },
      "outputs": [],
      "source": [
        "transfer_form_df.shape"
      ]
    },
    {
      "cell_type": "code",
      "execution_count": null,
      "metadata": {
        "colab": {
          "base_uri": "https://localhost:8080/"
        },
        "id": "Ihrg9NdPkeCS",
        "outputId": "de73f7ec-4287-4bb3-b637-7038a1aab6b7"
      },
      "outputs": [],
      "source": [
        "freshman_oasa_df.shape"
      ]
    },
    {
      "cell_type": "code",
      "execution_count": null,
      "metadata": {
        "colab": {
          "base_uri": "https://localhost:8080/"
        },
        "id": "nkAkDiJ2k0kv",
        "outputId": "d577db55-6fdb-42fd-f48c-bc265f047769"
      },
      "outputs": [],
      "source": [
        "transfer_oasa_df.shape"
      ]
    },
    {
      "cell_type": "code",
      "execution_count": null,
      "metadata": {
        "id": "mqx2VrSnjLRh"
      },
      "outputs": [],
      "source": [
        "##this function takes a dataframe and imputes columns for all possible names (first, midddle (2nd middle, etc), last)\n",
        "def generate_names(df):\n",
        "  #define a set to keep track of all columns involving names that are being added to the dataframe\n",
        "  column_labels= set()\n",
        "  for index, row in df.iterrows():\n",
        "    #grab name\n",
        "    name = row['Full Name']\n",
        "    #since name is in format 'LAST, FIRST MIDDLE.., possible suffix' split by comma first\n",
        "    name_arr = name.split(',')\n",
        "    #dont care about suffix so get the 2nd value of the split and split by space\n",
        "    pre_last_name_arr = name_arr[1].split()\n",
        "    last_name = name_arr[0]\n",
        "    first_name = \"\"\n",
        "    #iterate through the list of names before last name\n",
        "    for x in range(len(pre_last_name_arr)):\n",
        "      #get the number of middle names being included and label the column as such\n",
        "      column_label = str(x) + \" middle names\"\n",
        "      column_labels.add(column_label)\n",
        "      first_name += pre_last_name_arr[x] + ' '\n",
        "      full_name = first_name + last_name\n",
        "      #add the full name at the index with the column label generated\n",
        "      df.loc[index, column_label] = full_name\n",
        "\n",
        "  #return the dataframe and a list of the names of columns added\n",
        "  return df, list(sorted(column_labels))"
      ]
    },
    {
      "cell_type": "code",
      "execution_count": null,
      "metadata": {
        "colab": {
          "base_uri": "https://localhost:8080/"
        },
        "id": "7723RCgxlZfs",
        "outputId": "325a32ed-d5ad-4084-80a8-4512ef724b42"
      },
      "outputs": [],
      "source": [
        "freshman_oasa_df, freshman_names_col = generate_names(freshman_oasa_df)\n",
        "freshman_oasa_df.apply(lambda x: x.count(), axis= 0)"
      ]
    },
    {
      "cell_type": "code",
      "execution_count": null,
      "metadata": {
        "colab": {
          "base_uri": "https://localhost:8080/"
        },
        "id": "IDwlroBQnJm0",
        "outputId": "0527bc44-055b-4b19-d471-204910de2299"
      },
      "outputs": [],
      "source": [
        "transfer_oasa_df, transfer_names_col = generate_names(transfer_oasa_df)\n",
        "transfer_oasa_df.apply(lambda x: x.count(), axis= 0)"
      ]
    },
    {
      "cell_type": "code",
      "execution_count": null,
      "metadata": {
        "id": "rejxjaZ1nWJr"
      },
      "outputs": [],
      "source": [
        "##this function takes in dataframes of the oasa list and form responses, finds which form responses have the same email as the oasa list and merges\n",
        "def match_email(oasa_df, form_df):\n",
        "  #left merge on oasa datafram\n",
        "  #MAKE SURE TO CHECK WATCH COLUMNS ARE BEING INDEXED: the point is to merge using emails, but the names in the dataframes are different ('Email' in oasa, 'Preferred Email Address' on form)\n",
        "  oasa_df = oasa_df.merge(form_df['Preferred Email Address'], left_on=oasa_df['Email'].str.lower(), right_on=form_df['Preferred Email Address'].str.lower() , how='left')\n",
        "  #count how many non null values are in each column\n",
        "  counts = oasa_df.apply(lambda x: x.count(), axis=0)\n",
        "  print(counts)\n",
        "  num_found = counts['Preferred Email Address']\n",
        "  #print out how many emails match between OASA and google form\n",
        "  print(str(num_found) + ' emails are matched from form to oasa list')\n",
        "  oasa_df = oasa_df.drop(['key_0'], 1)\n",
        "  return oasa_df"
      ]
    },
    {
      "cell_type": "code",
      "execution_count": null,
      "metadata": {
        "colab": {
          "base_uri": "https://localhost:8080/"
        },
        "id": "aFxRiGVKnW_C",
        "outputId": "5a06a1d6-b702-4c3c-aebf-3608afe23feb"
      },
      "outputs": [],
      "source": [
        "freshman_oasa_df = match_email(freshman_oasa_df, freshman_form_df)"
      ]
    },
    {
      "cell_type": "code",
      "execution_count": null,
      "metadata": {
        "id": "lsuOkp30HG91"
      },
      "outputs": [],
      "source": [
        "##this functions takes in datafram of the oasa list and form responses, along with the labels of the name columns in the oasa list used to merge\n",
        "def match_names(oasa_df, form_df, column_labels):\n",
        "  #iterate through all columns ('0 middle names', '1 middle names' , etc)\n",
        "  print(oasa_df.shape)\n",
        "  for label in column_labels:\n",
        "    #get the preferred emails from the form into the oasa list, but make the names column (used to merge) lower case such that the matches are found\n",
        "    #left merge, meaning you attempt to match all names in the oasa list with some name in the form, and grab the email associated with it\n",
        "    oasa_df = pd.merge(oasa_df, form_df[['Full Legal Name (First and Last)', 'Preferred Email Address']], left_on=oasa_df[label].str.lower() , right_on=form_df['Full Legal Name (First and Last)'].str.lower(), how='left')\n",
        "    #preferred email addresses will show up in two columns, so you merge the two by filling the nulls with the new column\n",
        "    oasa_df['Preferred Email Address'] = oasa_df['Preferred Email Address_x'].fillna(oasa_df['Preferred Email Address_y'])\n",
        "    oasa_df = oasa_df.drop_duplicates(subset=['Full Name', 'Email'])\n",
        "    print(oasa_df.shape)\n",
        "    #get counts of columns\n",
        "    counts = oasa_df.apply(lambda x: x.count(), axis= 0)\n",
        "    total_matched = counts['Preferred Email Address']\n",
        "    #the number of new people matched is the difference between the updated number and the old number of matched\n",
        "    new_matched = total_matched - counts['Preferred Email Address_x']\n",
        "    print('Matched ' + str(new_matched) + ' mentees using ' + label)\n",
        "    print('In total ' + str(total_matched) + ' mentees matched')\n",
        "    #drop unnecessary columns\n",
        "    oasa_df = oasa_df.drop(['key_0', 'Full Legal Name (First and Last)', 'Preferred Email Address_x', 'Preferred Email Address_y'], 1)\n",
        "  return oasa_df"
      ]
    },
    {
      "cell_type": "code",
      "execution_count": null,
      "metadata": {
        "colab": {
          "base_uri": "https://localhost:8080/"
        },
        "id": "fvXeiHkkHJ68",
        "outputId": "48376811-d78b-433f-f2a7-4cada674ee50"
      },
      "outputs": [],
      "source": [
        "freshman_oasa_df = match_names(freshman_oasa_df, freshman_form_df, freshman_names_col)"
      ]
    },
    {
      "cell_type": "code",
      "execution_count": null,
      "metadata": {
        "colab": {
          "base_uri": "https://localhost:8080/"
        },
        "id": "X6kbTTa5WrzG",
        "outputId": "4fa3a7ad-9b54-4ce6-b53a-f4f1ae527587"
      },
      "outputs": [],
      "source": [
        "transfer_oasa_df = match_email(transfer_oasa_df, transfer_form_df)"
      ]
    },
    {
      "cell_type": "code",
      "execution_count": null,
      "metadata": {
        "colab": {
          "base_uri": "https://localhost:8080/"
        },
        "id": "pckNr0qEH06t",
        "outputId": "ba9adf55-2fda-40a3-cd67-f8f16ddc9984"
      },
      "outputs": [],
      "source": [
        "transfer_oasa_df = match_names(transfer_oasa_df, transfer_form_df, transfer_names_col)"
      ]
    },
    {
      "cell_type": "code",
      "execution_count": null,
      "metadata": {
        "id": "jg7_lAQznp5s"
      },
      "outputs": [],
      "source": [
        "def finalize_oasa_list(oasa_df, form_df, names_col):\n",
        "  df = pd.merge(form_df, oasa_df[['Preferred Email Address', 'Full Name', 'Admit Status']], on='Preferred Email Address', how='left')\n",
        "  unmatched_from_form = df[df['Full Name'].isna()]\n",
        "  print(unmatched_from_form.shape)\n",
        "  unmatched_from_form.to_csv('unmatched.csv')\n",
        "  #files.download('OASA-Freshman.csv')\n",
        "  if (unmatched_from_form.shape[0] != 0):\n",
        "    print(\"NOT ALL FORM ENTRIES MATCHED\")\n",
        "    return 0\n",
        "  else:\n",
        "    oasa_df['Preferred Email Address'] = oasa_df['Preferred Email Address'].fillna(oasa_df['Email'])\n",
        "    oasa_df.drop(names_col, axis=1, inplace=True)\n",
        "    oasa_df.drop('Email', axis=1, inplace=True)\n",
        "    oasa_df.rename({'Preferred Email Address': 'Email'}, axis=1, inplace=True)\n",
        "    return oasa_df\n"
      ]
    },
    {
      "cell_type": "code",
      "execution_count": null,
      "metadata": {
        "colab": {
          "base_uri": "https://localhost:8080/"
        },
        "id": "ZLG8iZpdIHYe",
        "outputId": "42e41323-392a-407a-f43a-d948dcd56d4c"
      },
      "outputs": [],
      "source": [
        "freshman_oasa_df = finalize_oasa_list(freshman_oasa_df, freshman_form_df, freshman_names_col)"
      ]
    },
    {
      "cell_type": "code",
      "execution_count": null,
      "metadata": {
        "colab": {
          "base_uri": "https://localhost:8080/"
        },
        "id": "8ZVsz7yTMIwf",
        "outputId": "163fe198-92d3-4094-bff9-da2e49ea287f"
      },
      "outputs": [],
      "source": [
        "transfer_oasa_df = finalize_oasa_list(transfer_oasa_df, transfer_form_df, transfer_names_col)"
      ]
    },
    {
      "cell_type": "code",
      "execution_count": null,
      "metadata": {
        "colab": {
          "base_uri": "https://localhost:8080/",
          "height": 17
        },
        "id": "IVZvGw4hpM0l",
        "outputId": "b510dcdf-7fd7-4f00-cd9f-b1d32d607387"
      },
      "outputs": [],
      "source": [
        "from google.colab import files\n",
        "freshman_oasa_df.to_csv('Clean-Freshmen.csv')\n",
        "files.download('Clean-Freshmen.csv')\n",
        "transfer_oasa_df.to_csv('Clean-Transfers.csv')\n",
        "files.download('Clean-Transfers.csv')"
      ]
    },
    {
      "cell_type": "markdown",
      "metadata": {
        "id": "YLoR-qJ3REqd"
      },
      "source": []
    },
    {
      "cell_type": "markdown",
      "metadata": {
        "id": "dxvukPy5AnAK"
      },
      "source": [
        "Start of adaptation of github repo to this notebook:"
      ]
    },
    {
      "cell_type": "code",
      "execution_count": null,
      "metadata": {
        "id": "fB9E5sEGAmUL"
      },
      "outputs": [],
      "source": [
        "#imports\n",
        "import pandas as pd\n",
        "from sklearn.cluster import KMeans\n",
        "import numpy as np\n",
        "from sklearn.metrics.pairwise import euclidean_distances\n",
        "from collections import defaultdict"
      ]
    },
    {
      "cell_type": "code",
      "execution_count": null,
      "metadata": {
        "colab": {
          "base_uri": "https://localhost:8080/",
          "height": 109
        },
        "id": "iuQ3hqf5Cwqu",
        "outputId": "d8d97f33-3e42-41c8-be65-e7f99594fc90"
      },
      "outputs": [],
      "source": [
        "from google.colab import files\n",
        "uploaded = files.upload()"
      ]
    },
    {
      "cell_type": "code",
      "execution_count": null,
      "metadata": {
        "id": "9tGFJh65B3Hz"
      },
      "outputs": [],
      "source": [
        "#constants\n",
        "# mentors_filename=\"MentorSEAS Mentor Form.csv\"\n",
        "# mentors_filename=\"MentorSEAS Mentor Form 19 (Freshman) 3.csv\"\n",
        "# mentors_filename=\"MentorSEAS Mentor Form 19 (Transfer).csv\"\n",
        "mentors_filename=\"MentorSEAS Mentor Form (Transfer) adjusted.csv\"\n",
        "# mentee_responses_filename=\"2022-23 MentorSEAS Mentee Form.csv\"\n",
        "# mentee_responses_filename=\"9_10_22_CleanedMenteeResponses 3.csv\"\n",
        "# mentee_responses_filename=\"Unlinked9_10_22_MentorSEAS Mentee Form (Freshmen).csv\"\n",
        "mentee_responses_filename=\"Unlinked9_10_22_MentorSEAS Mentee Form (Transfer).csv\"\n",
        "# mentees_master_filename=\"New-Freshmen.csv\"\n",
        "# mentees_master_filename=\"Clean-Freshmen.csv\"\n",
        "# mentees_master_filename=\"trialplzwork.csv\"\n",
        "# mentees_master_filename=\"Trial-Zero-Misses (1).csv\"\n",
        "mentees_master_filename=\"Clean-Transfers.csv\"\n",
        "\n",
        "categoryChoices = {\n",
        "    'ActivitiesRank': [\n",
        "        'Select your 5 favorite activities out of 10 listed below! [1st]',\n",
        "        'Select your 5 favorite activities out of 10 listed below! [2nd]',\n",
        "        'Select your 5 favorite activities out of 10 listed below! [3rd]',\n",
        "        'Select your 5 favorite activities out of 10 listed below! [4th]',\n",
        "        'Select your 5 favorite activities out of 10 listed below! [5th]'],\n",
        "    'Activities': [\n",
        "        \"Art/Theater\",\n",
        "        \"Hiking/Outdoors\",\n",
        "        \"Community Service\",\n",
        "        \"Gym\",\n",
        "        \"Greek Life\",\n",
        "        \"Sports\",\n",
        "        \"Video Games\",\n",
        "        \"Watching TV/Movies\",\n",
        "        \"Music\" ],\n",
        "    'FridaysQuestion': 'Which of the following best describes an ideal Friday night for you?',\n",
        "    'FridaysResponse': [\n",
        "        'Catch up on sleep/finish up homework',\n",
        "        'Get ahead in class/Finish up homework',\n",
        "        'Hang out with your best friend',\n",
        "        'Hang out in a big group of friends',\n",
        "        'Party' ],\n",
        "    'MentorTypeQuestion': 'What kind of mentor would you be?',\n",
        "    'MenteeTypeQuestion': 'What kind of mentor would you prefer?',\n",
        "    'MentorTypeResponse': [\n",
        "        'One that primarily provides emotional support',\n",
        "        'One that primarily provides academic support'],\n",
        "    'MajorsQuestion': 'What is your major?',\n",
        "    'Majors': [\n",
        "        'Aerospace Engineering',\n",
        "        'Bioengineering',\n",
        "        'Chemical Engineering',\n",
        "        'Civil & Environmental Engineering',\n",
        "        'Computer Engineering',\n",
        "        'Computer Science',\n",
        "        'Computer Science and Engineering',\n",
        "        'Electrical Engineering',\n",
        "        'Material Science and Engineering',\n",
        "        'Mechanical Engineering',\n",
        "        'Undeclared Engineering' ],\n",
        "    'TransferQuestion': 'Did you enter UCLA as a transfer student?',\n",
        "    'MenteeTransferQuestion': 'Are you entering UCLA as a transfer student?',\n",
        "    'TransferResponse': ['Yes', 'No'],\n",
        "    'MentorshipQuestion': 'Could you provide mentorship in any of the following categories?',\n",
        "    'MenteeshipQuestion': 'Would you like a mentor in any of the following categories?',\n",
        "    'Mentorship': [\n",
        "        \"Changing Majors\",\n",
        "        \"First Generation\",\n",
        "        \"International\",\n",
        "        \"LGBTQ\",\n",
        "        \"Out of State\",\n",
        "        \"Racial Minority in Engineering\",\n",
        "        \"Transfer Student\",\n",
        "        \"Women in Engineering\"],\n",
        "    'MenteeTimeZoneQuestion': 'What time zone will you be living in this year?',\n",
        "    'TimeZones' : [\n",
        "        'GMT +0:00 (Greenwich Mean Time)',\n",
        "        'GMT +1:00 (European Central Time)',\n",
        "        'GMT +2:00 (Eastern European Time)',\n",
        "        'GMT +3:00 (Middle East Time)',\n",
        "        'GMT +4:00 (Near East Time)',\n",
        "        'GMT +5:00 (Pakistan Lahore Time)',\n",
        "        'GMT +5:30 (India Standard Time)',\n",
        "        'GMT +6:00 (Bangladesh Standard Time)',\n",
        "        'GMT +7:00 (Vietnam Standard Time)',\n",
        "        'GMT +8:00 (China Taiwan Time)',\n",
        "        'GMT +9:00 (Japan Standard Time)',\n",
        "        'GMT +10:00 (Australia Eastern Time)',\n",
        "        'GMT +12:00 (New Zealand Standard Time)',\n",
        "        'GMT -10:00 (Hawaii Standard Time)',\n",
        "        'GMT -9:00 (Alaska Standard Time)',\n",
        "        'GMT -8:00 (Pacific Standard Time)',\n",
        "        'GMT -7:00 (Mountain Standard Time)',\n",
        "        'GMT -6:00 (Central Standard Time)',\n",
        "        'GMT -5:00 (Eastern Standard Time)',\n",
        "        'GMT -4:00 (Puerto Rico and US Virgin Islands Time)',\n",
        "        'GMT -3:30 (Canada Newfoundland Time)',\n",
        "        'GMT -3:00 (Argentina Eastern Time)',\n",
        "        'GMT -1:00 (Central African Time)'\n",
        "    ]\n",
        "}\n",
        "\n",
        "\n",
        "# must strictly use numbers 1 through n\n",
        "majorToNums = {\n",
        "    'Aerospace Engineering': 2,\n",
        "    'Bioengineering': 4,\n",
        "    'Chemical Engineering': 3,\n",
        "    'Civil & Environmental Engineering': 3,\n",
        "    'Computer Engineering': 1,\n",
        "    'Computer Science': 1,\n",
        "    'Computer Science and Engineering': 1,\n",
        "    'Electrical Engineering': 1,\n",
        "    'Material Science and Engineering': 3,\n",
        "    'Mechanical Engineering': 2,\n",
        "    'Undeclared Engineering': 4\n",
        "}\n",
        "\n",
        "# tied to the majorToNums, masterMajorToNums dict\n",
        "num_major_categories = 4\n",
        "\n",
        "mentorMatchCols = [\n",
        "  categoryChoices.get('Activities')[0],\n",
        "  categoryChoices.get('Activities')[1],\n",
        "  categoryChoices.get('Activities')[2],\n",
        "  categoryChoices.get('Activities')[3],\n",
        "  categoryChoices.get('Activities')[4],\n",
        "  categoryChoices.get('Activities')[5],\n",
        "  categoryChoices.get('Activities')[6],\n",
        "  categoryChoices.get('Activities')[7],\n",
        "  categoryChoices.get('Activities')[8],\n",
        "  categoryChoices.get('FridaysQuestion'),\n",
        "  categoryChoices.get('Mentorship')[0],\n",
        "  categoryChoices.get('Mentorship')[1],\n",
        "  categoryChoices.get('Mentorship')[2],\n",
        "  categoryChoices.get('Mentorship')[3],\n",
        "  categoryChoices.get('Mentorship')[4],\n",
        "  categoryChoices.get('Mentorship')[5],\n",
        "  categoryChoices.get('Mentorship')[6],\n",
        "  categoryChoices.get('Mentorship')[7],\n",
        "  categoryChoices.get('MajorsQuestion'),\n",
        "]\n",
        "\n",
        "menteeMatchCols = [\n",
        "  categoryChoices.get('Activities')[0],\n",
        "  categoryChoices.get('Activities')[1],\n",
        "  categoryChoices.get('Activities')[2],\n",
        "  categoryChoices.get('Activities')[3],\n",
        "  categoryChoices.get('Activities')[4],\n",
        "  categoryChoices.get('Activities')[5],\n",
        "  categoryChoices.get('Activities')[6],\n",
        "  categoryChoices.get('Activities')[7],\n",
        "  categoryChoices.get('Activities')[8],\n",
        "  categoryChoices.get('FridaysQuestion'),\n",
        "  categoryChoices.get('Mentorship')[0],\n",
        "  categoryChoices.get('Mentorship')[1],\n",
        "  categoryChoices.get('Mentorship')[2],\n",
        "  categoryChoices.get('Mentorship')[3],\n",
        "  categoryChoices.get('Mentorship')[4],\n",
        "  categoryChoices.get('Mentorship')[5],\n",
        "  categoryChoices.get('Mentorship')[6],\n",
        "  categoryChoices.get('Mentorship')[7],\n",
        "  categoryChoices.get('MajorsQuestion'),\n",
        "#   categoryChoices.get('MenteeTimeZoneQuestion')\n",
        "]\n",
        "\n",
        "master_major_map={\n",
        "  'AEROSPCE':'Aerospace Engineering',\n",
        "  'BIOENGR':'Bioengineering',\n",
        "  'CHM ENGR':'Chemical Engineering',\n",
        "  'CIV ENGR':'Civil & Environmental Engineering',\n",
        "  'COM ENGR':'Computer Engineering',\n",
        "  'COM SCI':'Computer Science',\n",
        "  'C S&ENGR':'Computer Science and Engineering',\n",
        "  'ELE ENGR':'Electrical Engineering',\n",
        "  'MAT ENGR':'Material Science and Engineering',\n",
        "  'MECHANIC':'Mechanical Engineering',\n",
        "  'UN-E&AS':'Undeclared Engineering'\n",
        "}\n",
        "\n"
      ]
    },
    {
      "cell_type": "code",
      "execution_count": null,
      "metadata": {
        "id": "ZMfnbcX_A60r"
      },
      "outputs": [],
      "source": [
        "'''\n",
        "This function is called uppon for all mentor data. It is used to change the input data from the responses into numbers ex from one to five\n",
        "and this will then be used to plot people in a vector plane to find people's proximity of compatability.\n",
        "'''\n",
        "def preprocess_mentors(filename):\n",
        "  originalMentorData = pd.read_csv(filename)\n",
        "  mentorData = originalMentorData.copy()\n",
        "\n",
        "  n_mentorEntries = mentorData.shape[0]\n",
        "\n",
        "  mentorFamilyQuestion = 'Follow the instructions below to join a family'\n",
        "  # possibly useless maybe take out later\n",
        "  for i in range (0, n_mentorEntries):\n",
        "      family = mentorData.iloc[i][mentorFamilyQuestion]\n",
        "\n",
        "  # print(mentorData)\n",
        "  zeroArray = np.zeros(n_mentorEntries)\n",
        "  for i in range (0, len(categoryChoices['Activities'])):\n",
        "      mentorData[(categoryChoices.get('Activities'))[i]] = zeroArray\n",
        "\n",
        "  #\n",
        "  for i in range (0, n_mentorEntries):\n",
        "      for j in range (0, len(categoryChoices['ActivitiesRank'])):\n",
        "          activity = mentorData.iloc[i][(categoryChoices.get('ActivitiesRank'))[j]]\n",
        "          email = mentorData.iloc[i]['Preferred Email Address']\n",
        "          mentorData.loc[mentorData['Preferred Email Address']==email, activity]=5-j\n",
        "  mentorData2 = mentorData.copy()\n",
        "\n",
        "  for i in range (1, len(categoryChoices['FridaysResponse']) + 1):\n",
        "      mentorData2.loc[mentorData2[categoryChoices['FridaysQuestion']].astype('str')==categoryChoices.get('FridaysResponse')[i-1], categoryChoices['FridaysQuestion']] = i\n",
        "\n",
        "  mentorData2.loc[mentorData2[categoryChoices['MentorTypeQuestion']].astype('str') ==categoryChoices.get('MentorTypeResponse')[0], categoryChoices['MentorTypeQuestion']] = 0\n",
        "  mentorData2.loc[mentorData2[categoryChoices['MentorTypeQuestion']].astype('str') ==categoryChoices.get('MentorTypeResponse')[1], categoryChoices['MentorTypeQuestion']] = 1\n",
        "\n",
        "  for i in range (1, len(categoryChoices['Majors']) + 1):\n",
        "      mentorData2.loc[mentorData2[categoryChoices['MajorsQuestion']].astype('str')==categoryChoices.get('Majors')[i-1], categoryChoices['MajorsQuestion']] = majorToNums[categoryChoices.get('Majors')[i-1]]\n",
        "\n",
        "  mentorData2.loc[mentorData2[categoryChoices['TransferQuestion']].astype('str')==categoryChoices.get('TransferResponse')[0], categoryChoices['TransferQuestion']] = 0\n",
        "  mentorData2.loc[mentorData2[categoryChoices['TransferQuestion']].astype('str')==categoryChoices.get('TransferResponse')[1], categoryChoices['TransferQuestion']] = 1\n",
        "\n",
        "  for i in range (0, len(categoryChoices['Mentorship'])):\n",
        "      mentorData2[categoryChoices['Mentorship'][i]] = zeroArray\n",
        "\n",
        "  mentorData2[categoryChoices['MentorshipQuestion']] = mentorData2[categoryChoices['MentorshipQuestion']].fillna(\"\")\n",
        "\n",
        "  for i in range (0, n_mentorEntries):\n",
        "      # mentorships finds the specific areas that a given mentor can offer mentorship in\n",
        "      mentorships = mentorData2.iloc[i][categoryChoices['MentorshipQuestion']]\n",
        "      mentorships = mentorships.split(';')\n",
        "      email = mentorData.iloc[i]['Preferred Email Address']\n",
        "      for j in range (0, len(mentorships)):\n",
        "          mentorData2.loc[mentorData2['Preferred Email Address']==email, categoryChoices['Mentorship'][j]] = 1\n",
        "\n",
        "  return mentorData2"
      ]
    },
    {
      "cell_type": "code",
      "execution_count": null,
      "metadata": {
        "id": "52ZIcMdPDrz-"
      },
      "outputs": [],
      "source": [
        "pd.set_option('display.max_columns', None)\n",
        "originalMentorData = pd.read_csv(mentors_filename)"
      ]
    },
    {
      "cell_type": "code",
      "execution_count": null,
      "metadata": {
        "colab": {
          "base_uri": "https://localhost:8080/",
          "height": 1000
        },
        "id": "_6CgRPOpDxwg",
        "outputId": "0b2f69be-3f6a-4709-b1b6-6e9c10233799"
      },
      "outputs": [],
      "source": [
        "display(originalMentorData)"
      ]
    },
    {
      "cell_type": "code",
      "execution_count": null,
      "metadata": {
        "colab": {
          "base_uri": "https://localhost:8080/"
        },
        "id": "uHP86YfaE2R2",
        "outputId": "2a5bf9c1-4123-4786-81aa-d1f4370466eb"
      },
      "outputs": [],
      "source": [
        "originalMentorData.shape"
      ]
    },
    {
      "cell_type": "code",
      "execution_count": null,
      "metadata": {
        "id": "W4S0nFnRBsXv"
      },
      "outputs": [],
      "source": [
        "#basically just one hot encodes a bunch of stuff\n",
        "mentorData=preprocess_mentors(mentors_filename)"
      ]
    },
    {
      "cell_type": "code",
      "execution_count": null,
      "metadata": {
        "colab": {
          "base_uri": "https://localhost:8080/",
          "height": 1000
        },
        "id": "V2J-wO-rDOQb",
        "outputId": "6e33ce2e-a868-4626-fcd5-51b8353249a2"
      },
      "outputs": [],
      "source": [
        "mentorData"
      ]
    },
    {
      "cell_type": "code",
      "execution_count": null,
      "metadata": {
        "colab": {
          "base_uri": "https://localhost:8080/"
        },
        "id": "8rwR3IvWE7cj",
        "outputId": "f15f1313-d2a5-4e0f-9bba-fa6eca67b595"
      },
      "outputs": [],
      "source": [
        "mentorData.shape #adds tons of new columns lol"
      ]
    },
    {
      "cell_type": "code",
      "execution_count": null,
      "metadata": {
        "id": "fopAOO8vFGR8"
      },
      "outputs": [],
      "source": [
        "def constrained_cluster_mentors(mentorData, mentorMatchCols, cluster_size, familyToMentors):\n",
        "\n",
        "  # mentorNewData is what KMeans will be applied to\n",
        "  # mentorMatchCols are just the columns in the dataframe that we care about when matching people (their interests and such)\n",
        "  mentorNewData = mentorData[mentorMatchCols].copy()\n",
        "  num_mentors = len(mentorData)\n",
        "\n",
        "  start_family_num=len(familyToMentors)\n",
        "\n",
        "  # base case\n",
        "  # add mentors in this cluster to their family in the familyToMentors list\n",
        "  if num_mentors<2*cluster_size:\n",
        "    for i in range(num_mentors):\n",
        "      family_num=i//cluster_size+start_family_num\n",
        "      if family_num in familyToMentors:\n",
        "        familyToMentors[family_num].append(mentorData.iloc[i]['Preferred Email Address'])\n",
        "      else:\n",
        "        newList = [mentorData.iloc[i]['Preferred Email Address']]\n",
        "        familyToMentors.update( { family_num : newList })\n",
        "\n",
        "    return\n",
        "\n",
        "  kmeans = KMeans(n_clusters=int(num_mentors/cluster_size), n_init=500)\n",
        "  # print(mentorNewData.to_string())\n",
        "  kmeans = kmeans.fit(mentorNewData)\n",
        "  labels = kmeans.predict(mentorNewData)\n",
        "  centroids = kmeans.cluster_centers_\n",
        "\n",
        "  label_count=defaultdict(int)\n",
        "  for label in labels:\n",
        "    label_count[label]+=1\n",
        "\n",
        "  # dict: size of family -> number of families (useful to check performance)\n",
        "  family_size=defaultdict(int)\n",
        "  for label in label_count:\n",
        "    family_size[label_count[label]]+=1\n",
        "\n",
        "#  print(family_size)\n",
        "\n",
        "  perfect_mentors=set() #mentors who belong to perfect families (multiples of cluster size)\n",
        "  for i in range(len(labels)):\n",
        "    if label_count[labels[i]]%cluster_size==0:\n",
        "      perfect_mentors.add(i)\n",
        "\n",
        "  perfect_mentor_indices=[]\n",
        "  for mentor in perfect_mentors:\n",
        "    perfect_mentor_indices.append( (mentorData[mentorData['Preferred Email Address'] == mentorData.iloc[mentor]['Preferred Email Address']].index.values)[0])\n",
        "\n",
        "  label_to_family_num=[None for i in range(len(labels))]\n",
        "\n",
        "  for mentor in perfect_mentors:\n",
        "    family_num=label_to_family_num[labels[mentor]]\n",
        "    if family_num==None:\n",
        "      family_num=len(familyToMentors)\n",
        "      label_to_family_num[labels[mentor]]=family_num\n",
        "      newList = [mentorData.iloc[mentor]['Preferred Email Address']]\n",
        "      familyToMentors.update( { family_num : newList })\n",
        "    else:\n",
        "      familyToMentors[family_num].append(mentorData.iloc[mentor]['Preferred Email Address'])\n",
        "\n",
        "  # chop up families which are bigger multiples of cluster size\n",
        "  for i in range(len(familyToMentors)-start_family_num):\n",
        "    family_num=start_family_num+i;\n",
        "    family=familyToMentors[family_num]\n",
        "    if len(family)>cluster_size:\n",
        "      for i in range(len(family)//cluster_size):\n",
        "        if i==0:\n",
        "          continue\n",
        "        new_family_num=len(familyToMentors)\n",
        "        newList = family[i*cluster_size:(i+1)*cluster_size]\n",
        "        familyToMentors.update( { new_family_num : newList })\n",
        "      newList=family[:cluster_size]\n",
        "      familyToMentors.update( { family_num : newList })\n",
        "\n",
        "  scraped_mentor_indices=[]\n",
        "  # scrape families from imperfect clusters\n",
        "  for i in range(len(labels)):\n",
        "    if label_count[labels[i]]%cluster_size!=0 and label_count[labels[i]]>cluster_size:\n",
        "      family_num=label_to_family_num[labels[i]]\n",
        "      if family_num==None:\n",
        "        family_num=len(familyToMentors)\n",
        "        label_to_family_num[labels[i]]=family_num\n",
        "        newList = [mentorData.iloc[i]['Preferred Email Address']]\n",
        "        familyToMentors.update( { family_num : newList })\n",
        "        scraped_mentor_indices.append((mentorData[mentorData['Preferred Email Address'] == mentorData.iloc[i]['Preferred Email Address']].index.values)[0])\n",
        "      else:\n",
        "        if len(familyToMentors[family_num])<cluster_size:\n",
        "          familyToMentors[family_num].append(mentorData.iloc[i]['Preferred Email Address'])\n",
        "          scraped_mentor_indices.append((mentorData[mentorData['Preferred Email Address'] == mentorData.iloc[i]['Preferred Email Address']].index.values)[0])\n",
        "\n",
        "  # remove the mentors who have now been assigned families\n",
        "  mentorData = mentorData.drop(perfect_mentor_indices)\n",
        "  mentorData = mentorData.drop(scraped_mentor_indices)\n",
        "\n",
        "  #recurse on the remaining mentors\n",
        "  constrained_cluster_mentors(mentorData, mentorMatchCols, cluster_size, familyToMentors)"
      ]
    },
    {
      "cell_type": "code",
      "execution_count": null,
      "metadata": {
        "id": "aeTsPlzfIzqa"
      },
      "outputs": [],
      "source": [
        "import re\n",
        "# function to split, alphebetize, and rejoin dash-separated groupname\n",
        "def standardize_family_string(str):\n",
        "  str=str.lower().strip()\n",
        "  # to standardize groupnames\n",
        "  regex = re.compile('[^a-zA-Z\\-]')\n",
        "  str = regex.sub('', str)\n",
        "  str = str.split('-')\n",
        "  ret = '-'.join(sorted(str))\n",
        "  return ret"
      ]
    },
    {
      "cell_type": "code",
      "execution_count": null,
      "metadata": {
        "id": "lvg6ciTAH7tT"
      },
      "outputs": [],
      "source": [
        "import csv\n",
        "def get_inconsistencies(write_to_file=False, preferred_email=False):\n",
        "\n",
        "  # this path name should be CHANGED depending on where the csv is stored #\n",
        "  data = pd.read_csv(mentors_filename, quotechar='\"', skipinitialspace=True)\n",
        "  email_column_no=3 if preferred_email else 1\n",
        "  family_column_no=21\n",
        "  name_column_no=2\n",
        "\n",
        "  # dictionary that maps groupnames to list of emails\n",
        "  group_names = {}\n",
        "\n",
        "  # number of rows in csv\n",
        "  rows = len(data)\n",
        "\n",
        "  # email to name mapping\n",
        "  email_to_name={}\n",
        "  for i in range(0, rows):\n",
        "    email_to_name[data.iloc[i,email_column_no]]=data.iloc[i,name_column_no]\n",
        "\n",
        "  # parse through csv and create/add to dictionary defintions, mapping groupnames to lists of emails\n",
        "  for i in range(0, rows):\n",
        "    if data.iloc[i,family_column_no] == data.iloc[i,family_column_no]:\n",
        "      key = standardize_family_string(data.iloc[i,family_column_no])\n",
        "      if key in group_names:\n",
        "        ls = group_names[key]\n",
        "        ls.append(data.iloc[i,email_column_no])\n",
        "        group_names[key] = ls\n",
        "      else:\n",
        "        ls = [data.iloc[i,email_column_no]]\n",
        "        group_names[key] = ls\n",
        "\n",
        "\n",
        "  inconsistent_families=[]\n",
        "  inconsistent_emails=[]\n",
        "  consistent_emails=[]\n",
        "\n",
        "  if write_to_file:\n",
        "    # write out inconsistent families to csv\n",
        "    with open('inconsistent_families.csv', 'w') as csvfile:\n",
        "      csvwriter = csv.writer(csvfile)\n",
        "      headers=['Submitted Family String', 'Member 1', 'Member 2', 'Member 3']\n",
        "      csvwriter.writerow(headers)\n",
        "      for g in group_names:\n",
        "        names = g.split('-')\n",
        "        ls = group_names[g]\n",
        "        if len(names) != len(ls):\n",
        "          inconsistent_families.append(g)\n",
        "          family_members=[email_to_name[email] for email in ls]\n",
        "          family_data=[g]\n",
        "          family_data= family_data+family_members\n",
        "          inconsistent_emails=inconsistent_emails+ls\n",
        "          csvwriter.writerow(family_data)\n",
        "\n",
        "    # write out consistent families to csv\n",
        "    with open('consistent_families.csv', 'w') as csvfile:\n",
        "      csvwriter = csv.writer(csvfile)\n",
        "      headers=['Member 1', 'Member 2', 'Member 3']\n",
        "      csvwriter.writerow(headers)\n",
        "      for family in group_names.keys():\n",
        "        if family not in inconsistent_families:\n",
        "          family_members=[email_to_name[email] for email in group_names[family]]\n",
        "          consistent_emails=consistent_emails+group_names[family]\n",
        "          csvwriter.writerow(family_members)\n",
        "\n",
        "  else:\n",
        "    for g in group_names:\n",
        "      names = g.split('-')\n",
        "      ls = group_names[g]\n",
        "      if len(names) != len(ls):\n",
        "        inconsistent_families.append(g)\n",
        "        family_members=[email_to_name[email] for email in ls]\n",
        "        family_data=[g]\n",
        "        family_data= family_data+family_members\n",
        "        inconsistent_emails=inconsistent_emails+ls\n",
        "\n",
        "    for family in group_names.keys():\n",
        "      if family not in inconsistent_families:\n",
        "        family_members=[email_to_name[email] for email in group_names[family]]\n",
        "        consistent_emails=consistent_emails+group_names[family]\n",
        "\n",
        "#  print(\"Inconsistent Emails\")\n",
        "#  print(inconsistent_emails)\n",
        "#  print(\"Consistent Emails\")\n",
        "#  print(consistent_emails)\n",
        "\n",
        "  return inconsistent_emails, consistent_emails"
      ]
    },
    {
      "cell_type": "code",
      "execution_count": null,
      "metadata": {
        "id": "BdHpbNPsJL_Z"
      },
      "outputs": [],
      "source": [
        "\"\"\"\n",
        "Split df by major group.\n",
        "\n",
        "Parameters\n",
        "--------------------\n",
        "    data           -- pandas df, mentor/mentee data\n",
        "\n",
        "Returns\n",
        "--------------------\n",
        "    majorMap       -- dict, major_group_number->corresponding_df\n",
        "\"\"\"\n",
        "\n",
        "def splitByMajor(data):\n",
        "    majorMap = dict();\n",
        "    for i in range(1,num_major_categories+1):\n",
        "        majorMap[i]=data.loc[data[categoryChoices['MajorsQuestion']]==i].reset_index(drop=True)\n",
        "    # print(\"here's the major map:\")\n",
        "    # print(majorMap)\n",
        "    return majorMap"
      ]
    },
    {
      "cell_type": "code",
      "execution_count": null,
      "metadata": {
        "id": "Z9yYVMbNGdac"
      },
      "outputs": [],
      "source": [
        "def cluster_mentors(mentorData):\n",
        "\n",
        "  n_mentorEntries = mentorData.shape[0]\n",
        "\n",
        "  # mentorKM is a copy of mentorData\n",
        "  mentorKM = mentorData.copy()\n",
        "\n",
        "  # preferredFamilyToMentors is a dictionary mapping family string to members' emails for people with 3-person families\n",
        "  preferredFamilyToMentors = dict()\n",
        "\n",
        "  # removeMentors is a list of indexes of people (in mentorKM dataframe) that will need to be removed from mentorKM before performing KMeans\n",
        "  removeMentors = []\n",
        "\n",
        "  # twoMentorFams is a dictionary mapping family string to members' emails for people with 2-person families\n",
        "  twoMentorFams = dict()\n",
        "\n",
        "  # for people who didn't put down families, fill their mentorFamilyQuestion column with empty string\n",
        "  mentorFamilyQuestion = 'Follow the instructions below to join a family'\n",
        "  mentorKM[mentorFamilyQuestion] = mentorKM[mentorFamilyQuestion].fillna(\"\")\n",
        "\n",
        "  # get inconsistent families to ignore\n",
        "  inconsistent_emails, _ = get_inconsistencies(write_to_file=False, preferred_email=False)\n",
        "  inconsistent_emails=set(inconsistent_emails)\n",
        "  # print(inconsistent_emails)\n",
        "\n",
        "  # figure out the family string, and continue adding key-value pairs between family string and members' email to preferredFamilyToMentors and twoMentorFams\n",
        "  for i in range (0, n_mentorEntries):\n",
        "      if mentorKM.iloc[i]['Preferred Email Address'] in inconsistent_emails:\n",
        "        continue\n",
        "      familyString = mentorKM.iloc[i][mentorFamilyQuestion]\n",
        "      familyString=standardize_family_string(familyString)\n",
        "      splitFamString = familyString\n",
        "      if (familyString != \"\"):\n",
        "          splitFamString = splitFamString.split('-')\n",
        "          if (len(splitFamString) == 3):\n",
        "              if familyString in preferredFamilyToMentors:\n",
        "                  preferredFamilyToMentors[familyString].append(mentorKM.iloc[i]['Preferred Email Address'])\n",
        "              else:\n",
        "                  newList = [mentorKM.iloc[i]['Preferred Email Address']]\n",
        "                  preferredFamilyToMentors.update( { familyString : newList } )\n",
        "              indexToErase = mentorKM[mentorKM['Preferred Email Address'] == mentorKM.iloc[i]['Preferred Email Address']].index.values\n",
        "              removeMentors.append(indexToErase[0])\n",
        "          elif (len(splitFamString) == 2):\n",
        "              if familyString in twoMentorFams:\n",
        "                  twoMentorFams[familyString].append(mentorKM.iloc[i]['Preferred Email Address'])\n",
        "              else:\n",
        "                  newList1 = [mentorKM.iloc[i]['Preferred Email Address']]\n",
        "                  twoMentorFams.update( { familyString : newList1 })\n",
        "\n",
        "\n",
        "\n",
        "  mentorKMData = []\n",
        "\n",
        "  for i in range(0, n_mentorEntries):\n",
        "      mentorKMData.append(mentorData.iloc[i][mentorMatchCols])\n",
        "\n",
        "  # if family name is only 2 people, alter the data in mentorKM so that both people have the exact same data, meaning they are guaranteed to get matched through KMeans\n",
        "  for key in twoMentorFams:\n",
        "      # print(twoMentorFams[key])\n",
        "      mentor1 = twoMentorFams[key][0]\n",
        "      mentor2 = twoMentorFams[key][1]\n",
        "      for i in range (0, len(mentorMatchCols)):\n",
        "          mentorKM.loc[mentorKM['Preferred Email Address']==mentor2,mentorMatchCols] = mentorKM.loc[mentorKM['Preferred Email Address']==mentor1, mentorMatchCols].values\n",
        "  # delete all the 3-family mentors from mentorKM so KMeans is only applied for 2-fam or 0-fam mentors\n",
        "  mentorKM = mentorKM.drop(removeMentors)\n",
        "  mentorRecursiveKM=mentorKM.copy()\n",
        "  num_mentors = len(mentorKM)\n",
        "\n",
        "  familyToMentors = dict()\n",
        "  constrained_cluster_mentors(mentorRecursiveKM, mentorMatchCols,3, familyToMentors)\n",
        "#  print(familyToMentors)\n",
        "\n",
        "  for key in preferredFamilyToMentors:\n",
        "      familyToMentors[len(familyToMentors)] = preferredFamilyToMentors[key]\n",
        "\n",
        "  return familyToMentors, splitByMajor(mentorData)"
      ]
    },
    {
      "cell_type": "code",
      "execution_count": null,
      "metadata": {
        "id": "66oSj5W_JbFz"
      },
      "outputs": [],
      "source": [
        "#familyToMentors is a dict: family number -> list of emails of the mentors in that family\n",
        "#mentor_tables is much more complicated; has a ton of the data in tables, don't worry too much for now\n",
        "familyToMentors, mentor_tables = cluster_mentors(mentorData)"
      ]
    },
    {
      "cell_type": "code",
      "execution_count": null,
      "metadata": {
        "id": "mokwoO_MJfyl"
      },
      "outputs": [],
      "source": [
        "#tells us the number of mentors for each group of majors (1 is CS, 2 is aero/mech, 3 is chem/civ/mate, 4 is bioe + undeclared)\n",
        "num_mentors_in_category=dict()\n",
        "for category in mentor_tables.keys():\n",
        "  num_mentors_in_category[category]=mentor_tables[category].shape[0]"
      ]
    },
    {
      "cell_type": "code",
      "execution_count": null,
      "metadata": {
        "colab": {
          "base_uri": "https://localhost:8080/"
        },
        "id": "10KHseSkKL0l",
        "outputId": "3676e52b-0bb1-474d-c5de-b2ff995ea851"
      },
      "outputs": [],
      "source": [
        "num_mentors_in_category"
      ]
    },
    {
      "cell_type": "code",
      "execution_count": null,
      "metadata": {
        "id": "tV_u574WK7JP"
      },
      "outputs": [],
      "source": [
        "\"\"\"\n",
        "Preprocess mentee data.\n",
        "Read into dataframe.\n",
        "One-hot encode activity preferences.\n",
        "Convert other categorical reponses to numerical.\n",
        "\n",
        "Parameters\n",
        "--------------------\n",
        "    filename          -- string, path to mentee response csv\n",
        "\n",
        "Returns\n",
        "--------------------\n",
        "    mentee_tables     -- dict, major_category_# -> corresponding split df\n",
        "\"\"\"\n",
        "def preprocess_mentee_responses(filename):\n",
        "  originalMenteeData = pd.read_csv(filename)\n",
        "  menteeData = originalMenteeData.copy()\n",
        "  # print(menteeData)\n",
        "  n_menteeEntries = menteeData.shape[0]\n",
        "\n",
        "# seems like: adds in zeroes for one hot encoding\n",
        "  menteeEmails = \"Preferred Email Address\"\n",
        "  zeroArray = np.zeros(n_menteeEntries)\n",
        "  for i in range (0, len(categoryChoices['Activities'])):\n",
        "     menteeData[(categoryChoices.get('Activities'))[i]] = zeroArray\n",
        "  # print(menteeData)\n",
        "\n",
        "  for i in range (0, n_menteeEntries):\n",
        "     for j in range (0, len(categoryChoices['ActivitiesRank'])):\n",
        "         activity = menteeData.iloc[i][(categoryChoices.get('ActivitiesRank'))[j]]\n",
        "         email = menteeData.iloc[i]['Preferred Email Address']\n",
        "         menteeData.loc[menteeData['Preferred Email Address']==email, activity]=5-j\n",
        "  # print(\"now it's like this: \")\n",
        "  # print(menteeData)\n",
        "\n",
        "  for i in range (1, len(categoryChoices['FridaysResponse']) + 1):\n",
        "     menteeData.loc[menteeData[categoryChoices['FridaysQuestion']].astype('str')==categoryChoices.get('FridaysResponse')[i-1], categoryChoices['FridaysQuestion']] = i\n",
        "\n",
        "  menteeData.loc[menteeData[categoryChoices['MenteeTypeQuestion']].astype('str') ==categoryChoices.get('MentorTypeResponse')[0], categoryChoices['MenteeTypeQuestion']] = 0\n",
        "  menteeData.loc[menteeData[categoryChoices['MenteeTypeQuestion']].astype('str') ==categoryChoices.get('MentorTypeResponse')[1], categoryChoices['MenteeTypeQuestion']] = 1\n",
        "\n",
        "  for i in range (1, len(categoryChoices['Majors']) + 1):\n",
        "      menteeData.loc[menteeData[categoryChoices['MajorsQuestion']].astype('str')==categoryChoices.get('Majors')[i-1], categoryChoices['MajorsQuestion']] = majorToNums[categoryChoices.get('Majors')[i-1]]\n",
        "\n",
        "#   for i in range(0, len(categoryChoices['TimeZones'])):\n",
        "#       if abs(i-15)<=abs(len(categoryChoices['TimeZones'])+i-15):\n",
        "#           timeZoneAsNum = i-15\n",
        "#       else:\n",
        "#           timeZoneAsNum = len(categoryChoices['TimeZones'])+i-15\n",
        "#       menteeData.loc[menteeData[categoryChoices['MenteeTimeZoneQuestion']].astype('str')==categoryChoices.get('TimeZones')[i], categoryChoices['MenteeTimeZoneQuestion']] = timeZoneAsNum\n",
        "\n",
        "  menteeData.loc[menteeData[categoryChoices['MenteeTransferQuestion']].astype('str')==categoryChoices.get('TransferResponse')[0], categoryChoices['TransferQuestion']] = 0\n",
        "  menteeData.loc[menteeData[categoryChoices['MenteeTransferQuestion']].astype('str')==categoryChoices.get('TransferResponse')[1], categoryChoices['TransferQuestion']] = 1\n",
        "\n",
        "  for i in range (0, len(categoryChoices['Mentorship'])):\n",
        "     menteeData[categoryChoices['Mentorship'][i]] = zeroArray\n",
        "\n",
        "  for i in range (0, n_menteeEntries):\n",
        "     for j in range (0, len(categoryChoices['Mentorship'])):\n",
        "         menteeships = menteeData.iloc[i][categoryChoices['MenteeshipQuestion']]\n",
        "         email = menteeData.iloc[i]['Preferred Email Address']\n",
        "         menteeData.loc[(menteeData['Preferred Email Address']==email) & (menteeships.find(categoryChoices['Mentorship'][j])) != -1, categoryChoices['Mentorship'][j]] = 1\n",
        "  # print(\"Turned into this:\")\n",
        "  # print(menteeData)\n",
        "\n",
        "  return splitByMajor(menteeData) #returns a dictionary of the four major groups, like 1: 2: 3: 4:"
      ]
    },
    {
      "cell_type": "code",
      "execution_count": null,
      "metadata": {
        "id": "dgeEgYCELNwg"
      },
      "outputs": [],
      "source": [
        "#mentee_tables gives us the data split up by major groups\n",
        "mentee_tables=preprocess_mentee_responses(mentee_responses_filename)"
      ]
    },
    {
      "cell_type": "code",
      "execution_count": null,
      "metadata": {
        "id": "FQhKf8eDLVfy"
      },
      "outputs": [],
      "source": [
        "\"\"\"\n",
        "Preprocess mentee master data.\n",
        "Read into dataframe.\n",
        "Encode majors.\n",
        "\n",
        "Parameters\n",
        "--------------------\n",
        "    filename          -- string, path to mentee master csv\n",
        "\n",
        "Returns\n",
        "--------------------\n",
        "    mentee_master_tables     -- dict, major_category_# -> list of emails\n",
        "\"\"\"\n",
        "def preprocess_mentee_masterlist(filename):\n",
        "  menteeData = pd.read_csv(filename)\n",
        "  n_menteeEntries = menteeData.shape[0]\n",
        "\n",
        "  for major in master_major_map:\n",
        "    menteeData.loc[menteeData['Major'].astype('str')==major, 'Major'] = majorToNums[master_major_map[major]]\n",
        "\n",
        "  mentee_master_tables=dict()\n",
        "  for i in range(1,num_major_categories+1):\n",
        "    mentee_master_tables[i]=menteeData.loc[menteeData['Major']==i,'Email'].to_list()\n",
        "#   print(\"here's the mentees but with the majors as numbers\")\n",
        "#   print(mentee_master_tables)\n",
        "  return mentee_master_tables #returns a dict with 1: emails of major 1, 2: emails of mentees with major 2,etc. for 3 and 4"
      ]
    },
    {
      "cell_type": "code",
      "execution_count": null,
      "metadata": {
        "id": "v2hJAZaTL-JZ"
      },
      "outputs": [],
      "source": [
        "#gives us emails for each student in each major group; dict: major group number -> list of emails\n",
        "mentee_master_tables=preprocess_mentee_masterlist(mentees_master_filename)"
      ]
    },
    {
      "cell_type": "code",
      "execution_count": null,
      "metadata": {
        "colab": {
          "base_uri": "https://localhost:8080/"
        },
        "id": "ThAxDNGGeiic",
        "outputId": "0e9fd3d9-8e43-41f0-d208-a973ab15c79d"
      },
      "outputs": [],
      "source": [
        "for category in mentee_master_tables.keys():\n",
        "  print(len(mentee_master_tables[category]))\n",
        "print(113+56+36+12)"
      ]
    },
    {
      "cell_type": "code",
      "execution_count": null,
      "metadata": {
        "colab": {
          "base_uri": "https://localhost:8080/",
          "height": 284
        },
        "id": "lfRJS9iOAZPM",
        "outputId": "308ae72d-0b76-4504-ca2f-a66f12002f7f"
      },
      "outputs": [],
      "source": [
        "! pip install numpy==1.23"
      ]
    },
    {
      "cell_type": "code",
      "execution_count": null,
      "metadata": {
        "colab": {
          "base_uri": "https://localhost:8080/"
        },
        "id": "N4X8_RPDnsh-",
        "outputId": "c0daa3ec-e3f0-48d1-fa59-c0501cda9303"
      },
      "outputs": [],
      "source": [
        "! pip install k-means-constrained>=0.7.2"
      ]
    },
    {
      "cell_type": "code",
      "execution_count": null,
      "metadata": {
        "id": "vZ-Ak0OPqJV0"
      },
      "outputs": [],
      "source": [
        "! pip install ortools==9.3.10497\n",
        "from ortools.graph.pywrapgraph import SimpleMinCostFlow"
      ]
    },
    {
      "cell_type": "code",
      "execution_count": null,
      "metadata": {
        "id": "4m95VtUvzAhl"
      },
      "outputs": [],
      "source": []
    },
    {
      "cell_type": "code",
      "execution_count": null,
      "metadata": {
        "id": "DgvWL7eBCTKn"
      },
      "outputs": [],
      "source": [
        "\"\"\"\n",
        "Cluster mentees into groups to establish representative mentees.\n",
        "Parameters\n",
        "--------------------\n",
        "    menteeData             -- pandas df, parsed mentee data\n",
        "    num_clusters           -- int, number of clusters (should equal number of mentors)\n",
        "Returns\n",
        "--------------------\n",
        "    familyToMentees       -- dict, representative_mentee# -> [mentee emails]\n",
        "    menteeClusterData     -- dict, representative_mentee# -> [arrays of numerical mentee data] (these correspond to the data used to cluster)\n",
        "\"\"\"\n",
        "def cluster_mentees(menteeData, num_clusters):\n",
        "  # menteeKM is a copy of menteeData\n",
        "  menteeKM = menteeData.copy()\n",
        "\n",
        "  # menteeNewData is what KMeans will be applied to\n",
        "  menteeNewData = menteeKM[menteeMatchCols]\n",
        "\n",
        "  menteeKmeans = KMeans(n_clusters=num_clusters, n_init=500)\n",
        "  menteeKmeans = menteeKmeans.fit(menteeNewData)\n",
        "  menteeLabels = menteeKmeans.predict(menteeNewData)\n",
        "\n",
        "  familyToMentees = dict()\n",
        "  menteeClusterData = dict()\n",
        "\n",
        "  for i in range(0, len(menteeLabels)):\n",
        "      if menteeLabels[i] in familyToMentees:\n",
        "          familyToMentees[menteeLabels[i]].append(menteeKM.iloc[i]['Preferred Email Address'])\n",
        "          menteeClusterData[menteeLabels[i]].append(menteeKM.iloc[i][menteeMatchCols])\n",
        "      else:\n",
        "          newList = [menteeKM.iloc[i]['Preferred Email Address']]\n",
        "          newData = [menteeKM.iloc[i][menteeMatchCols]]\n",
        "          familyToMentees.update( { menteeLabels[i] : newList })\n",
        "          menteeClusterData.update( { menteeLabels[i] : newData})\n",
        "\n",
        "  return familyToMentees, menteeClusterData"
      ]
    },
    {
      "cell_type": "code",
      "execution_count": null,
      "metadata": {
        "colab": {
          "base_uri": "https://localhost:8080/",
          "height": 746
        },
        "id": "CJrWLFB-PZTO",
        "outputId": "1a80edd4-3c27-4dc2-8757-3f21ecfdf7ba"
      },
      "outputs": [],
      "source": [
        "from scipy.spatial.distance import cdist\n",
        "from scipy.optimize import linear_sum_assignment\n",
        "import numpy as np\n",
        "from k_means_constrained import KMeansConstrained\n",
        "\"\"\"\n",
        "Cluster mentees into groups to establish representative mentees.\n",
        "\n",
        "Parameters\n",
        "--------------------\n",
        "    menteeData             -- pandas df, parsed mentee data\n",
        "    num_clusters           -- int, number of clusters (should equal number of mentors)\n",
        "\n",
        "Returns\n",
        "--------------------\n",
        "    familyToMentees       -- dict, representative_mentee# -> [mentee emails]\n",
        "    menteeClusterData     -- dict, representative_mentee# -> [arrays of numerical mentee data] (these correspond to the data used to cluster)\n",
        "\"\"\"\n",
        "def cluster_mentees(menteeData, num_clusters):\n",
        "  #adding this to try to get equal size clusters\n",
        "  cluster_size = int(np.ceil(len(menteeData) / num_clusters))\n",
        "  print(cluster_size)\n",
        "  # menteeKM is a copy of menteeData\n",
        "  menteeKM = menteeData.copy()\n",
        "\n",
        "  # menteeNewData is what KMeans will be applied to\n",
        "  menteeNewData = menteeKM[menteeMatchCols]\n",
        "\n",
        "  menteeKmeans = KMeansConstrained(size_min=cluster_size - 1, size_max=cluster_size, n_clusters=num_clusters, n_init=500)\n",
        "\n",
        "\n",
        "  # menteeKmeans = KMeans(n_clusters=num_clusters, n_init=500)\n",
        "  menteeKmeans = menteeKmeans.fit(menteeNewData)\n",
        "\n",
        "  # centers = menteeKmeans.cluster_centers_\n",
        "  # print(centers)\n",
        "  # centers = centers.reshape(-1, 1, menteeNewData.shape[-1]).repeat(cluster_size, 1).reshape(-1, menteeNewData.shape[-1])\n",
        "  # distance_matrix = cdist(menteeNewData, centers)\n",
        "  # clusters = linear_sum_assignment(distance_matrix)[1]//cluster_size\n",
        "  menteeLabels = menteeKmeans.predict(menteeNewData)\n",
        "\n",
        "\n",
        "  familyToMentees = dict()\n",
        "  menteeClusterData = dict()\n",
        "\n",
        "  for i in range(0, len(menteeLabels)):\n",
        "      if menteeLabels[i] in familyToMentees:\n",
        "          familyToMentees[menteeLabels[i]].append(menteeKM.iloc[i]['Preferred Email Address'])\n",
        "          menteeClusterData[menteeLabels[i]].append(menteeKM.iloc[i][menteeMatchCols])\n",
        "      else:\n",
        "          newList = [menteeKM.iloc[i]['Preferred Email Address']]\n",
        "          newData = [menteeKM.iloc[i][menteeMatchCols]]\n",
        "          familyToMentees.update( { menteeLabels[i] : newList })\n",
        "          menteeClusterData.update( { menteeLabels[i] : newData})\n",
        "  # print(\"here is familytomentees\")\n",
        "  # print(familyToMentees)\n",
        "  # print('here is menteeClusterData')\n",
        "  # print(menteeClusterData)\n",
        "\n",
        "  return familyToMentees, menteeClusterData"
      ]
    },
    {
      "cell_type": "code",
      "execution_count": null,
      "metadata": {
        "id": "NOkb4rzTQjq8"
      },
      "outputs": [],
      "source": [
        "import numpy as np\n",
        "\n",
        "\"\"\"\n",
        "Return a stable matching as obtained from Gale Shapley\n",
        "\n",
        "Parameters\n",
        "--------------------\n",
        "    n                       -- int, number of mentors/mentees (must be equal)\n",
        "    mentor_preferences      -- ndarray of shape (n,n), mentor_preferences[i] is the all the mentee indices in order of preference of mentor i\n",
        "    mentee_preferences      -- ndarray of shape (n,n), mentee_preferences[i] is the all the mentor indices in order of preference of mentee i\n",
        "\n",
        "Returns\n",
        "--------------------\n",
        "    mentor_matches          -- array of length n, mentor_matches[i] corresponds to index of the mentor matched to mentee i\n",
        "\"\"\"\n",
        "\n",
        "def stable_match(n, mentor_preferences, mentee_preferences):\n",
        "\n",
        "    # mentor_matches stores mentee/mentor pairs\n",
        "    mentor_matches = [-1 for i in range(n)]\n",
        "\n",
        "    # last_match[i] stores the index of the last checked mentee for mentor[i]\n",
        "    last_match = [-1 for i in range(n)]\n",
        "\n",
        "    # stores availability of mentor\n",
        "    mentorFree = [True for i in range(n)]\n",
        "\n",
        "    freeCount = n\n",
        "    m=0 # current_mentor\n",
        "\n",
        "    # while there are free mentors\n",
        "    while (freeCount > 0):\n",
        "\n",
        "        if(mentorFree[m]):\n",
        "\n",
        "          # Go through mentees according to m's preferences\n",
        "          while last_match[m] < n-1:\n",
        "              last_match[m]+=1\n",
        "              mentee = mentor_preferences[m][last_match[m]]\n",
        "\n",
        "              # the preferred mentee is free, so mentee and mentor become matched\n",
        "              if (mentor_matches[mentee] == -1):\n",
        "                  mentor_matches[mentee] = m\n",
        "                  mentorFree[m] = False\n",
        "                  freeCount -= 1\n",
        "                  # print(str(m) + \"is engaged to \" + str(mentee))\n",
        "                  # print(\"so mentor #\" + str(m) + \" is no longer free\")\n",
        "                  # print(mentorFree)\n",
        "                  break\n",
        "\n",
        "              else:\n",
        "                  # preferred mentee is not free, check current match\n",
        "                  existing_m = mentor_matches[mentee]\n",
        "\n",
        "                  # if new match is better, create it\n",
        "                  if (mentee_preferences[mentee].tolist().index(m) < mentee_preferences[mentee].tolist().index(existing_m)):\n",
        "                      mentor_matches[mentee] = m\n",
        "                      mentorFree[m] = False\n",
        "                      mentorFree[existing_m] = True\n",
        "                      # print(str(mentee) + \" broke off their engagement to \" + str(existing_m) + \" so \" + str(m) + \" is now engaged to \" + str(mentee))\n",
        "                      # print(\"so mentor #\" + str(m) + \"is no longer free, but mentor #\" + str(existing_m) + \" is free now\")\n",
        "                      # print(mentorFree)\n",
        "                      break\n",
        "\n",
        "                  # otherwise, do nothing\n",
        "                  pass\n",
        "\n",
        "        # else:\n",
        "          # print(str(m) + \" is not free, so we'll go to the next mentor\")\n",
        "        # cycle through the mentors\n",
        "        m=(m+1)%n\n",
        "\n",
        "    return mentor_matches"
      ]
    },
    {
      "cell_type": "code",
      "execution_count": null,
      "metadata": {
        "colab": {
          "base_uri": "https://localhost:8080/"
        },
        "id": "Q8B_aEfVMJdd",
        "outputId": "277d9cca-22a3-45a4-c7bd-6256a17e1ef6"
      },
      "outputs": [],
      "source": [
        "mentorEmailToMenteesEmails = defaultdict(list)\n",
        "# noMisses = pd.read_csv(io.BytesIO(uploaded[mentees_master_filename]))\n",
        "# display(noMisses)\n",
        "# goodOnes = set()\n",
        "for category in mentor_tables.keys():\n",
        "  # print(category)\n",
        "  # print(mentee_master_tables)\n",
        "  # print(mentee_master_tables[category])\n",
        "  master_mentee_emails=set(mentee_master_tables[category])\n",
        "  # filter out unmatchable responses\n",
        "  mentee_tables[category]=mentee_tables[category][mentee_tables[category]['Preferred Email Address'].isin(master_mentee_emails)]\n",
        "  matched_mentee_emails=set(mentee_tables[category]['Preferred Email Address'].to_list())\n",
        "  master_mentee_emails=master_mentee_emails.difference(matched_mentee_emails)\n",
        "\n",
        "  # goodOnes |= matched_mentee_emails\n",
        "  # print(\"this is who was not matched: \")\n",
        "  # display(master_mentee_emails)\n",
        "  print(\"this is number of people not matched in this category\" + str(len(master_mentee_emails)))\n",
        "  print(\"number of people matched: \" + str(len(matched_mentee_emails)))\n",
        "\n",
        "  # proportion of mentors to be matched\n",
        "  # print(matched_mentee_emails)\n",
        "  # print(master_mentee_emails)\n",
        "  p=len(matched_mentee_emails)/(len(matched_mentee_emails)+len(master_mentee_emails))\n",
        "  num_match_mentors=int(p * num_mentors_in_category[category])\n",
        "  print(str(num_match_mentors) + \" mentors chosen \")\n",
        "  print(\"out of \")\n",
        "  print(num_mentors_in_category[category])\n",
        "  # display(mentee_tables[category])\n",
        "  familyToMentees, menteeClusterData=cluster_mentees(mentee_tables[category], num_match_mentors)\n",
        "  print(\"result of clustering mentees\")\n",
        "  tot = 0\n",
        "  for item in familyToMentees:\n",
        "    tot += len(familyToMentees[item])\n",
        "  print(\"total found with familyToMentees: \" + str(tot))\n",
        "\n",
        "\n",
        "  # -------------------------------------------\n",
        "  # -Assign respresentative mentees to mentors-\n",
        "  # -------------------------------------------\n",
        "\n",
        "  # mentorNums keeps track of only the numerical values for each mentor in each column\n",
        "  mentorNums = mentor_tables[category][mentorMatchCols].to_numpy()\n",
        "  mentorNums = mentorNums[:num_match_mentors]\n",
        "\n",
        "  # repMentees is a matrix of representative mentees for each mentee cluster to be KMeansed with mentors\n",
        "  representativeMentees = []\n",
        "\n",
        "  for key in range (0, len(menteeClusterData)):\n",
        "      representative = np.zeros(len(mentorMatchCols))\n",
        "      for mentee in menteeClusterData[key]:\n",
        "          representative = representative + mentee[mentorMatchCols]\n",
        "      representative /= len(menteeClusterData[key])\n",
        "      representativeMentees.append(representative)\n",
        "  representativeMentees = np.array(representativeMentees)\n",
        "  print(\"len of representative mentees: \")\n",
        "  print(len(representativeMentees))\n",
        "\n",
        "  # Calculate pairwise distance for every pair of mentor and representative mentee\n",
        "\n",
        "  mentorToPref = dict()\n",
        "  menteeToPref = dict()\n",
        "\n",
        "  mentorPrefs = euclidean_distances(mentorNums, representativeMentees)\n",
        "  menteePrefs = euclidean_distances(representativeMentees, mentorNums)\n",
        "\n",
        "  # Create the mentor preferences matrix by sorting each row of the pairwise distance matrix\n",
        "  # Create the mentee preferences matrix in a similar fashion\n",
        "\n",
        "  for i,mentor in enumerate(mentorPrefs):\n",
        "    mentorPrefs[i]=sorted(range(mentorPrefs.shape[1]), key=lambda x: mentor[x])\n",
        "  for i,mentee in enumerate(menteePrefs):\n",
        "    menteePrefs[i]=sorted(range(menteePrefs.shape[1]), key=lambda x: mentee[x])\n",
        "\n",
        "  mentorPrefs=np.array(mentorPrefs).astype(int)\n",
        "  menteePrefs=np.array(menteePrefs).astype(int)\n",
        "  print(\"mentorPrefs then menteePrefs\")\n",
        "  print(mentorPrefs.shape)\n",
        "  print(menteePrefs.shape)\n",
        "  # print(mentorPrefs)\n",
        "  # print(menteePrefs)\n",
        "\n",
        "  stableMatchResult = stable_match(num_match_mentors, mentorPrefs, menteePrefs)\n",
        "  print(\"this is length of stable match result\" + str(len(stableMatchResult)))\n",
        "  print(stableMatchResult)\n",
        "\n",
        "  for i in range(0, len(stableMatchResult)):\n",
        "      menteeEmails = familyToMentees[i]\n",
        "      mentor = mentor_tables[category].iloc[stableMatchResult[i]]['Preferred Email Address']\n",
        "      # print(mentor)\n",
        "      mentorEmailToMenteesEmails[mentor].extend(menteeEmails)\n",
        "  print(\"this is mentorEmailToMenteesEmails right after adding stuff\")\n",
        "  total = 0\n",
        "  i = 0\n",
        "  for j in mentorEmailToMenteesEmails:\n",
        "    total += len(mentorEmailToMenteesEmails[j])\n",
        "    # print(str(i) + \" : \" + str(total))\n",
        "    i+=1\n",
        "\n",
        "  mentor_index=0\n",
        "  for i, mentee in enumerate(master_mentee_emails):\n",
        "    # print(str(i) + \"person being added at the end\")\n",
        "    mentor = mentor_tables[category].iloc[num_match_mentors+mentor_index]['Preferred Email Address']\n",
        "    mentorEmailToMenteesEmails[mentor].append(mentee)\n",
        "    mentor_index=(mentor_index+1)%(num_mentors_in_category[category]-num_match_mentors)\n",
        "\n",
        "  print(\"updated length of mentorEmailToMenteesEmails: \" + str(len(mentorEmailToMenteesEmails)))\n",
        "  # total = 0\n",
        "  # i = 0\n",
        "  # for j in mentorEmailToMenteesEmails:\n",
        "  #   total += len(mentorEmailToMenteesEmails[j])\n",
        "  #   print(str(i) + \" : \" + str(total))\n",
        "  #   i+=1\n",
        "\n",
        "# noMisses = noMisses[noMisses['Email'].isin(goodOnes)]\n",
        "# display(noMisses)\n",
        "# noMisses.to_csv('Trial-Zero-Misses.csv')\n",
        "# files.download('Trial-Zero-Misses.csv')"
      ]
    },
    {
      "cell_type": "code",
      "execution_count": null,
      "metadata": {
        "colab": {
          "base_uri": "https://localhost:8080/"
        },
        "id": "BO7IyjqCPceX",
        "outputId": "36f37eea-52fd-44ed-df9d-3844197dbb09"
      },
      "outputs": [],
      "source": [
        "familyToMentees"
      ]
    },
    {
      "cell_type": "code",
      "execution_count": null,
      "metadata": {
        "id": "ju1YNnx8hYzl"
      },
      "outputs": [],
      "source": [
        "\"\"\"\n",
        "Process mentor data to get relevant contact details\n",
        "\n",
        "Parameters\n",
        "--------------------\n",
        "    filename          -- string, path to mentor csv\n",
        "\n",
        "Returns\n",
        "--------------------\n",
        "    mentor_contact     -- dict, ucla email -> (name,preferred email,phone)\n",
        "\"\"\"\n",
        "def get_mentor_contact(filename):\n",
        "  mentor_data = pd.read_csv(filename)\n",
        "  contact_columns=[\"Preferred Email Address\", \"Full Legal Name (First and Last)\", \"Preferred Email Address\", \"Phone Number (##########)\"]\n",
        "  mentor_data=mentor_data[contact_columns]\n",
        "\n",
        "  mentor_contact=dict()\n",
        "\n",
        "  for i in range(len(mentor_data)):\n",
        "    mentor=mentor_data.iloc[i]\n",
        "    if np.isnan(mentor[3]):\n",
        "      contact_info=(mentor[1], mentor[2], \"\")\n",
        "    else:\n",
        "      contact_info=(mentor[1], mentor[2], int(mentor[3]))\n",
        "    mentor_contact[mentor[0]]=contact_info\n",
        "\n",
        "  return mentor_contact"
      ]
    },
    {
      "cell_type": "code",
      "execution_count": null,
      "metadata": {
        "id": "Qr1q-ySXhejT"
      },
      "outputs": [],
      "source": [
        "\"\"\"\n",
        "Process mentee data to get relevant contact details\n",
        "\n",
        "Parameters\n",
        "--------------------\n",
        "    filename          -- string, path to mentee csv\n",
        "\n",
        "Returns\n",
        "--------------------\n",
        "    mentee_contact     -- dict, email -> (name)\n",
        "\"\"\"\n",
        "def get_mentee_contact(filename):\n",
        "  mentee_data = pd.read_csv(filename)\n",
        "  contact_columns=[\"Full Name\", \"Email\"]\n",
        "  mentee_data=mentee_data[contact_columns]\n",
        "\n",
        "  mentee_contact=dict()\n",
        "\n",
        "  for i in range(len(mentee_data)):\n",
        "    mentee=mentee_data.iloc[i]\n",
        "    contact_info=(mentee[0])\n",
        "    mentee_contact[mentee[1]]=contact_info\n",
        "\n",
        "  return mentee_contact"
      ]
    },
    {
      "cell_type": "code",
      "execution_count": null,
      "metadata": {
        "id": "pBnCiSEohPCS"
      },
      "outputs": [],
      "source": [
        "\"\"\"\n",
        "Export data to csvs.\n",
        "\n",
        "Parameters\n",
        "--------------------\n",
        "    familyToMentors              -- dict, family# -> [mentor emails]\n",
        "    mentorEmailToMenteesEmails   -- dict, mentor_email -> [mentee_emails]\n",
        "\n",
        "Returns\n",
        "--------------------\n",
        "    42\n",
        "\"\"\"\n",
        "def generate_csvs(familyToMentors, mentorEmailToMenteesEmails, mentors_filename, mentees_filename):\n",
        "\n",
        "  mentor_contact=get_mentor_contact(mentors_filename)\n",
        "  mentee_contact=get_mentee_contact(mentees_filename)\n",
        "\n",
        "\n",
        "  mentor_email_list=[]\n",
        "  with open('mentor_families.csv', 'w') as csvfile:\n",
        "    csvwriter = csv.writer(csvfile)\n",
        "    headers=['Family Number', 'Mentor 1', 'Mentor 2', 'Mentor 3']\n",
        "    csvwriter.writerow(headers)\n",
        "    for family in sorted(familyToMentors.keys()):\n",
        "      # print(\"here's the data about the families\")\n",
        "      # print(familyToMentors[family])\n",
        "      # print(\"here's what's being put in for names\")\n",
        "      # for email in familyToMentors[family]:\n",
        "            # print(mentor_contact[email])\n",
        "      names = [mentor_contact[email][0] for email in familyToMentors[family]]\n",
        "      preferred_emails=[mentor_contact[email][1] for email in familyToMentors[family]]\n",
        "      family_data=[family] +names\n",
        "      csvwriter.writerow(family_data)\n",
        "      mentor_email_list+=preferred_emails\n",
        "\n",
        "  with open('mentee_to_mentor.csv', 'w') as csvfile:\n",
        "    csvwriter = csv.writer(csvfile)\n",
        "    headers=['Mentee', 'Family Number', 'Mentor']\n",
        "    csvwriter.writerow(headers)\n",
        "    for family in sorted(familyToMentors.keys()):\n",
        "        for mentor in familyToMentors[family]:\n",
        "          # print(\"here is mentees assigned to \" + str(mentor) + \" : \" + str(mentorEmailToMenteesEmails[mentor]))\n",
        "          for mentee in mentorEmailToMenteesEmails[mentor]:\n",
        "            mentee_data=[mentee_contact[mentee],family, mentor_contact[mentor][0]]\n",
        "            csvwriter.writerow(mentee_data)\n",
        "\n",
        "  with open('mentor_to_mentees.csv', 'w') as csvfile:\n",
        "    csvwriter = csv.writer(csvfile)\n",
        "    headers=['Mentor', 'Family Number', 'Mentees']\n",
        "    csvwriter.writerow(headers)\n",
        "    for family in sorted(familyToMentors.keys()):\n",
        "        for mentor in familyToMentors[family]:\n",
        "          mentees=[mentee for mentee in mentorEmailToMenteesEmails[mentor]]\n",
        "          mentor_data=[mentor_contact[mentor][0],family, mentees]\n",
        "          csvwriter.writerow(mentor_data)\n",
        "\n",
        "  return 42"
      ]
    },
    {
      "cell_type": "code",
      "execution_count": null,
      "metadata": {
        "colab": {
          "base_uri": "https://localhost:8080/"
        },
        "id": "57dn2vSfhj9V",
        "outputId": "0cc00798-7a2c-428c-d0ff-e0ddd15aa7dc"
      },
      "outputs": [],
      "source": [
        "generate_csvs(familyToMentors, mentorEmailToMenteesEmails, mentors_filename, mentees_master_filename)"
      ]
    }
  ],
  "metadata": {
    "colab": {
      "provenance": []
    },
    "kernelspec": {
      "display_name": "Python 3",
      "name": "python3"
    },
    "language_info": {
      "name": "python"
    }
  },
  "nbformat": 4,
  "nbformat_minor": 0
}
